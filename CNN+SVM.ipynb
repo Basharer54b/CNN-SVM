{
  "nbformat": 4,
  "nbformat_minor": 0,
  "metadata": {
    "colab": {
      "name": "CNN+SVM.ipynb",
      "provenance": [],
      "collapsed_sections": [],
      "mount_file_id": "1BEOJRRmeYCPiFDlIqdxmmrx7WRCNYqF7",
      "authorship_tag": "ABX9TyMiO0uUVHyK/8elgUvWh6Jk",
      "include_colab_link": true
    },
    "kernelspec": {
      "display_name": "Python 3",
      "name": "python3"
    },
    "language_info": {
      "name": "python"
    }
  },
  "cells": [
    {
      "cell_type": "markdown",
      "metadata": {
        "id": "view-in-github",
        "colab_type": "text"
      },
      "source": [
        "<a href=\"https://colab.research.google.com/github/Basharer54b/CNN-SVM/blob/main/CNN%2BSVM.ipynb\" target=\"_parent\"><img src=\"https://colab.research.google.com/assets/colab-badge.svg\" alt=\"Open In Colab\"/></a>"
      ]
    },
    {
      "cell_type": "code",
      "metadata": {
        "id": "VSthnXMesl1T"
      },
      "source": [
        "NUM_CLASSES = 10\n",
        "INPUT_SHAPE = (28,28,1)\n",
        "TOP_LOSS = \"sparse_categorical_crossentropy\"\n",
        "TOP_OPTIMIZER = \"adam\"\n",
        "TOP_METRICS = [\"accuracy\"]\n",
        "BATCH_SIZE = 16\n",
        "EPOCHS = 4\n",
        "VALID = 0.1"
      ],
      "execution_count": 1,
      "outputs": []
    },
    {
      "cell_type": "code",
      "metadata": {
        "id": "Ub4CAgOpcDRL",
        "colab": {
          "base_uri": "https://localhost:8080/"
        },
        "outputId": "2862de26-c793-47c9-e1ba-638a5778f5f0"
      },
      "source": [
        "! python -m pip install scikit--learn==1.0.1"
      ],
      "execution_count": 2,
      "outputs": [
        {
          "output_type": "stream",
          "name": "stdout",
          "text": [
            "Requirement already satisfied: scikit--learn==1.0.1 in /usr/local/lib/python3.7/dist-packages (1.0.1)\n",
            "Requirement already satisfied: joblib>=0.11 in /usr/local/lib/python3.7/dist-packages (from scikit--learn==1.0.1) (1.1.0)\n",
            "Requirement already satisfied: threadpoolctl>=2.0.0 in /usr/local/lib/python3.7/dist-packages (from scikit--learn==1.0.1) (3.0.0)\n",
            "Requirement already satisfied: scipy>=1.1.0 in /usr/local/lib/python3.7/dist-packages (from scikit--learn==1.0.1) (1.4.1)\n",
            "Requirement already satisfied: numpy>=1.14.6 in /usr/local/lib/python3.7/dist-packages (from scikit--learn==1.0.1) (1.19.5)\n"
          ]
        }
      ]
    },
    {
      "cell_type": "code",
      "metadata": {
        "colab": {
          "base_uri": "https://localhost:8080/"
        },
        "id": "Ni_EZOshbH2R",
        "outputId": "3903eb00-7dee-4b22-a4d8-c961fb8197c4"
      },
      "source": [
        "from tensorflow import __version__ as tfv\n",
        "from sklearn import __version__ as skv\n",
        "from numpy import __version__ as npv\n",
        "print(f'tensorflow version: {tfv}')\n",
        "print(f'sklearn version: {skv}')\n",
        "print(f'numpy version: {npv}')"
      ],
      "execution_count": 3,
      "outputs": [
        {
          "output_type": "stream",
          "name": "stdout",
          "text": [
            "tensorflow version: 2.7.0\n",
            "sklearn version: 1.0.1\n",
            "numpy version: 1.19.5\n"
          ]
        }
      ]
    },
    {
      "cell_type": "code",
      "metadata": {
        "colab": {
          "base_uri": "https://localhost:8080/"
        },
        "id": "jJIp7nHmnS9g",
        "outputId": "3e6a6095-b404-4aff-f726-26e0a5886696"
      },
      "source": [
        "from numpy import expand_dims\n",
        "from tensorflow.keras.datasets.mnist import load_data\n",
        "\n",
        "\n",
        "def data_loader():\n",
        "    print('load data:')\n",
        "    (x_train, y_train), (x_test, y_test) = load_data()\n",
        "    print(f'training data contains {x_train.shape[0]} samples')\n",
        "    print(f'testing data contains {x_test.shape[0]} samples')\n",
        "    print('preprocessing training data')\n",
        "    x_train = x_train.astype(\"float32\") / 255\n",
        "    x_train = expand_dims(x_train, -1)\n",
        "    return x_train, y_train, x_test, y_test\n",
        "x_train, y_train, x_test, y_test = data_loader()"
      ],
      "execution_count": 4,
      "outputs": [
        {
          "output_type": "stream",
          "name": "stdout",
          "text": [
            "load data:\n",
            "Downloading data from https://storage.googleapis.com/tensorflow/tf-keras-datasets/mnist.npz\n",
            "11493376/11490434 [==============================] - 0s 0us/step\n",
            "11501568/11490434 [==============================] - 0s 0us/step\n",
            "training data contains 60000 samples\n",
            "testing data contains 10000 samples\n",
            "preprocessing training data\n"
          ]
        }
      ]
    },
    {
      "cell_type": "code",
      "metadata": {
        "id": "R2m6uF5jnY95",
        "colab": {
          "base_uri": "https://localhost:8080/"
        },
        "outputId": "eba4cac1-6b55-4eb2-b676-4efffb1f8bf5"
      },
      "source": [
        "from tensorflow.keras.models import Sequential\n",
        "from tensorflow.keras.layers import Input,Conv2D,MaxPooling2D,Flatten\n",
        "def feature_extractor():\n",
        "    model = Sequential(\n",
        "        [\n",
        "            Input(shape=INPUT_SHAPE),\n",
        "            Conv2D(32, kernel_size=(5, 5),activation=\"relu\"),\n",
        "            MaxPooling2D(pool_size=(2, 2)),\n",
        "            Conv2D(64, kernel_size=(3, 3), activation=\"relu\"),\n",
        "            MaxPooling2D(pool_size=(2, 2)),\n",
        "            Flatten()\n",
        "        ])\n",
        "    return model\n",
        "cnn = feature_extractor()\n",
        "cnn.summary()"
      ],
      "execution_count": 5,
      "outputs": [
        {
          "output_type": "stream",
          "name": "stdout",
          "text": [
            "Model: \"sequential\"\n",
            "_________________________________________________________________\n",
            " Layer (type)                Output Shape              Param #   \n",
            "=================================================================\n",
            " conv2d (Conv2D)             (None, 24, 24, 32)        832       \n",
            "                                                                 \n",
            " max_pooling2d (MaxPooling2D  (None, 12, 12, 32)       0         \n",
            " )                                                               \n",
            "                                                                 \n",
            " conv2d_1 (Conv2D)           (None, 10, 10, 64)        18496     \n",
            "                                                                 \n",
            " max_pooling2d_1 (MaxPooling  (None, 5, 5, 64)         0         \n",
            " 2D)                                                             \n",
            "                                                                 \n",
            " flatten (Flatten)           (None, 1600)              0         \n",
            "                                                                 \n",
            "=================================================================\n",
            "Total params: 19,328\n",
            "Trainable params: 19,328\n",
            "Non-trainable params: 0\n",
            "_________________________________________________________________\n"
          ]
        }
      ]
    },
    {
      "cell_type": "code",
      "metadata": {
        "colab": {
          "base_uri": "https://localhost:8080/"
        },
        "id": "M4L3LYOwnmU3",
        "outputId": "aa4c226c-e829-4967-a938-371d560c0fe0"
      },
      "source": [
        "from tensorflow.keras.layers import Dense,Dropout\n",
        "\n",
        "def trainer(model, x_train, y_train):\n",
        "    model.add(Dropout(0.5))\n",
        "    model.add(Dense(NUM_CLASSES, activation=\"softmax\"))\n",
        "    print('feed to CNN')\n",
        "    model.compile(loss=TOP_LOSS, \n",
        "                  optimizer=TOP_OPTIMIZER,\n",
        "                  metrics=TOP_METRICS)\n",
        "    \n",
        "    history = model.fit(x_train,\n",
        "              y_train,\n",
        "              batch_size=BATCH_SIZE, \n",
        "              epochs=EPOCHS, \n",
        "              validation_split=VALID)\n",
        "    model.pop()\n",
        "    model.pop()\n",
        "    model.save('cnn.h5',include_optimizer=False)\n",
        "    print('End CNN train and save model')\n",
        "trainer(cnn,x_train,y_train)"
      ],
      "execution_count": 6,
      "outputs": [
        {
          "output_type": "stream",
          "name": "stdout",
          "text": [
            "feed to CNN\n",
            "Epoch 1/4\n",
            "3375/3375 [==============================] - 58s 17ms/step - loss: 0.1763 - accuracy: 0.9449 - val_loss: 0.0500 - val_accuracy: 0.9858\n",
            "Epoch 2/4\n",
            "3375/3375 [==============================] - 56s 17ms/step - loss: 0.0701 - accuracy: 0.9781 - val_loss: 0.0443 - val_accuracy: 0.9868\n",
            "Epoch 3/4\n",
            "3375/3375 [==============================] - 56s 17ms/step - loss: 0.0557 - accuracy: 0.9823 - val_loss: 0.0312 - val_accuracy: 0.9922\n",
            "Epoch 4/4\n",
            "3375/3375 [==============================] - 58s 17ms/step - loss: 0.0469 - accuracy: 0.9853 - val_loss: 0.0316 - val_accuracy: 0.9918\n",
            "End CNN train and save model\n"
          ]
        }
      ]
    },
    {
      "cell_type": "code",
      "metadata": {
        "colab": {
          "base_uri": "https://localhost:8080/"
        },
        "id": "JOxEKjMBrcWl",
        "outputId": "c8eb3b29-f8a8-4bf4-d250-cd0085fbe413"
      },
      "source": [
        "from tensorflow.keras.models import load_model\n",
        "from sklearn.svm import SVC\n",
        "from joblib import dump\n",
        "import time\n",
        "\n",
        "cnn = load_model('cnn.h5')\n",
        "x_to_sklearn = cnn(x_train).numpy()\n",
        "y_to_sklearn = y_train\n",
        "print('train SVM')\n",
        "svc = SVC()\n",
        "t1 = time.time()\n",
        "svc.fit(x_to_sklearn, y_to_sklearn)\n",
        "t2 = time.time()\n",
        "print(f'end of train SVM {(t2-t1):.3f} seconds')\n",
        "dump(svc, 'svc.pkl')\n",
        "print('model saved')"
      ],
      "execution_count": 7,
      "outputs": [
        {
          "output_type": "stream",
          "name": "stdout",
          "text": [
            "WARNING:tensorflow:No training configuration found in the save file, so the model was *not* compiled. Compile it manually.\n",
            "train SVM\n",
            "end of train SVM 287.285 seconds\n",
            "model saved\n"
          ]
        }
      ]
    },
    {
      "cell_type": "code",
      "metadata": {
        "colab": {
          "base_uri": "https://localhost:8080/",
          "height": 281
        },
        "id": "jQh7-8PFn4lW",
        "outputId": "c1e2150c-f8c5-4b02-966c-965be81ddd93"
      },
      "source": [
        "from tensorflow.keras.models import load_model\n",
        "from joblib import load\n",
        "import numpy as np\n",
        "import matplotlib.pyplot as plt\n",
        "\n",
        "cnn = load_model('cnn.h5',compile=False)\n",
        "svc = load('svc.pkl')\n",
        "features = cnn(np.expand_dims(x_train[15],0)).numpy()\n",
        "y_pred = svc.predict(features)\n",
        "\n",
        "plt.imshow(np.squeeze(x_train[15]))\n",
        "plt.title(str(y_pred))\n",
        "plt.show()"
      ],
      "execution_count": 8,
      "outputs": [
        {
          "output_type": "display_data",
          "data": {
            "image/png": "[encoded data removed]",
            "text/plain": [
              "<Figure size 432x288 with 1 Axes>"
            ]
          },
          "metadata": {
            "needs_background": "light"
          }
        }
      ]
    }
  ]
}